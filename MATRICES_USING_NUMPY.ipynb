{
  "nbformat": 4,
  "nbformat_minor": 0,
  "metadata": {
    "colab": {
      "provenance": []
    },
    "kernelspec": {
      "name": "python3",
      "display_name": "Python 3"
    },
    "language_info": {
      "name": "python"
    }
  },
  "cells": [
    {
      "cell_type": "markdown",
      "source": [
        "# Matrices\n"
      ],
      "metadata": {
        "id": "H729Vxqsdh5_"
      }
    },
    {
      "cell_type": "markdown",
      "source": [
        "## Import"
      ],
      "metadata": {
        "id": "iQLGiDT32DHY"
      }
    },
    {
      "cell_type": "code",
      "source": [
        "import numpy as np"
      ],
      "metadata": {
        "id": "NTY1DDOO6aQS"
      },
      "execution_count": 2,
      "outputs": []
    },
    {
      "cell_type": "markdown",
      "source": [
        "## Matrix as a `NumPy` array\n",
        "\n",
        "Everything in `NumPy` is an array. A matrix is also an array. Let us create a simple matrix:\n",
        "\n",
        "$$\n",
        "\\textbf{M} = \\begin{bmatrix}\n",
        "1 & 2 & 3\\\\\n",
        "4 & 5 & 6\\\\\n",
        "7 & 8 & 9\n",
        "\\end{bmatrix}\n",
        "$$\n",
        "\n",
        "In `NumPy`:"
      ],
      "metadata": {
        "id": "QchFdrAp6c0E"
      }
    },
    {
      "cell_type": "code",
      "source": [
        "M = np.array([[1,2,3],[4,5,6],[7,8,9]])\n",
        "M"
      ],
      "metadata": {
        "id": "DURrZ-wb6426",
        "colab": {
          "base_uri": "https://localhost:8080/"
        },
        "outputId": "aa43f06f-8f62-4b1e-e954-eaad79e44266"
      },
      "execution_count": null,
      "outputs": [
        {
          "output_type": "execute_result",
          "data": {
            "text/plain": [
              "array([[1, 2, 3],\n",
              "       [4, 5, 6],\n",
              "       [7, 8, 9]])"
            ]
          },
          "metadata": {},
          "execution_count": 2
        }
      ]
    },
    {
      "cell_type": "markdown",
      "source": [
        "## Adding two matrices\n",
        "\n",
        "Let us now add the following matrices:\n",
        "\n",
        "$$\n",
        "\\textbf{A} = \\begin{bmatrix}\n",
        "1 & 2\\\\\n",
        "3 & 4\n",
        "\\end{bmatrix}, \\textbf{B} = \\begin{bmatrix}\n",
        "5 & 6\\\\\n",
        "7 & 8\n",
        "\\end{bmatrix}\n",
        "$$\n",
        "\n",
        "then,\n",
        "\n",
        "$$\n",
        "\\textbf{C} = \\textbf{A} + \\textbf{B}  = \\begin{bmatrix}\n",
        "6 & 8\\\\\n",
        "10 & 12\n",
        "\\end{bmatrix}\n",
        "$$\n",
        "\n",
        "In `NumPy`:"
      ],
      "metadata": {
        "id": "L7h4kYjw7XKe"
      }
    },
    {
      "cell_type": "code",
      "source": [
        "A = np.array([[1,2],[3,4]])\n",
        "B = np.array([[5,6],[7,8]])\n",
        "print(A+B)"
      ],
      "metadata": {
        "id": "rOV92c-Y7SJT",
        "colab": {
          "base_uri": "https://localhost:8080/"
        },
        "outputId": "e300ac21-0e4e-4193-e9a3-8957b4eb61fb"
      },
      "execution_count": 36,
      "outputs": [
        {
          "output_type": "stream",
          "name": "stdout",
          "text": [
            "[[ 6  8]\n",
            " [10 12]]\n"
          ]
        }
      ]
    },
    {
      "cell_type": "markdown",
      "source": [
        "## Scaling a matrix\n",
        "\n",
        "Scaling a matrix is nothing but element-wise multiplication:\n",
        "\n",
        "$$\n",
        "\\textbf{M} = \\begin{bmatrix}\n",
        "1 & 2 & 3\\\\\n",
        "4 & 5 & 6\\\\\n",
        "7 & 8 & 9\n",
        "\\end{bmatrix}\n",
        "$$\n",
        "\n",
        "then,\n",
        "\n",
        "$$\n",
        "3 \\textbf{M} = \\begin{bmatrix}\n",
        "3 & 6 & 9\\\\\n",
        "12 & 15 & 18\\\\\n",
        "21 & 24 & 27\n",
        "\\end{bmatrix}\n",
        "$$\n",
        "\n",
        "In `NumPy`:"
      ],
      "metadata": {
        "id": "m_pCQww198OD"
      }
    },
    {
      "cell_type": "code",
      "source": [
        "A = np.arange(1,10).reshape(3,3) # you will learn about this step in line 16 and 17\n",
        "print(3*A)"
      ],
      "metadata": {
        "id": "jM_o92DpBoYe",
        "colab": {
          "base_uri": "https://localhost:8080/"
        },
        "outputId": "bb4f8db6-708a-4a94-8f19-d326572a1389"
      },
      "execution_count": 41,
      "outputs": [
        {
          "output_type": "stream",
          "name": "stdout",
          "text": [
            "[[ 3  6  9]\n",
            " [12 15 18]\n",
            " [21 24 27]]\n"
          ]
        }
      ]
    },
    {
      "cell_type": "markdown",
      "source": [
        "## Element-wise multiplication of matrices\n",
        "\n",
        "Consider two matrices:\n",
        "\n",
        "$$\n",
        "\\textbf{A} = \\begin{bmatrix}\n",
        "1 & 2\\\\\n",
        "3 & 4\n",
        "\\end{bmatrix}, \\textbf{B} = \\begin{bmatrix}\n",
        "5 & 6\\\\\n",
        "7 & 8\n",
        "\\end{bmatrix}\n",
        "$$\n",
        "\n",
        "The element-wise product is given by $\\textbf{A} \\odot \\textbf{B}$:\n",
        "\n",
        "$$\n",
        "\\textbf{C} = \\textbf{A} \\odot \\textbf{B} = \\begin{bmatrix}\n",
        "5 & 12\\\\\n",
        "21 & 32\n",
        "\\end{bmatrix}\n",
        "$$\n",
        "\n",
        "In `NumPy`:"
      ],
      "metadata": {
        "id": "hmE4xEve7y0n"
      }
    },
    {
      "cell_type": "code",
      "source": [
        "A = np.array([[1,2],[3,4]])\n",
        "B = np.array([[5,6],[7,8]])\n",
        "print(A*B)"
      ],
      "metadata": {
        "id": "USCv3DX18gbD",
        "colab": {
          "base_uri": "https://localhost:8080/"
        },
        "outputId": "17f9be6e-8823-46d7-a998-d65bf074fda4"
      },
      "execution_count": 42,
      "outputs": [
        {
          "output_type": "stream",
          "name": "stdout",
          "text": [
            "[[ 5 12]\n",
            " [21 32]]\n"
          ]
        }
      ]
    },
    {
      "cell_type": "markdown",
      "source": [
        "## Element-wise functions of matrices\n",
        "\n",
        "Given a matrix, we sometimes would want to apply a function to every element of the matrix. We will consider two examples."
      ],
      "metadata": {
        "id": "V3iWGy8-8xho"
      }
    },
    {
      "cell_type": "markdown",
      "source": [
        "### Example-1\n",
        "\n",
        "For example, we may want to take the absolute value of all the elements. Let us say $f(x) = |x|$, then:\n",
        "\n",
        "$$\n",
        "\\mathbf{A} = \\begin{bmatrix}\n",
        "-1 & 2\\\\\n",
        "-3 & -4\n",
        "\\end{bmatrix}\n",
        "$$\n",
        "\n",
        "then:\n",
        "\n",
        "$$\n",
        "\\begin{bmatrix}\n",
        "f(-1) & f(2)\\\\\n",
        "f(-3) & f(-4)\n",
        "\\end{bmatrix} =\n",
        "\\begin{bmatrix}\n",
        "1 & 2\\\\\n",
        "3 & 4\n",
        "\\end{bmatrix}\n",
        "$$\n",
        "\n",
        "In `NumPy`, this becomes:"
      ],
      "metadata": {
        "id": "gVkkmUzNvppN"
      }
    },
    {
      "cell_type": "code",
      "source": [
        "x = np.array([[-1,2],[-3,-4]])\n",
        "y = np.abs(x)\n",
        "y"
      ],
      "metadata": {
        "id": "8svqjjFy-QG9",
        "colab": {
          "base_uri": "https://localhost:8080/"
        },
        "outputId": "01f1be8d-d6ff-49d7-c133-60917a0d2e4b"
      },
      "execution_count": null,
      "outputs": [
        {
          "output_type": "execute_result",
          "data": {
            "text/plain": [
              "array([[1, 2],\n",
              "       [3, 4]])"
            ]
          },
          "metadata": {},
          "execution_count": 3
        }
      ]
    },
    {
      "cell_type": "markdown",
      "source": [
        "### Example-2\n",
        "\n",
        "We might want to square each element of the matrix. If $\\textbf{A}$ is a matrix, then $\\textbf{B}$ could be defined element-wise as follows:\n",
        "\n",
        "$$\n",
        "B_{ij} = A_{ij}^2\n",
        "$$\n",
        "\n",
        "Let us compute $\\mathbf{B}$ for the following matrix:\n",
        "\n",
        "$$\n",
        "\\mathbf{A} = \\begin{bmatrix}\n",
        "1 & \\sqrt{2}\\\\\n",
        "\\sqrt{3} & 2\n",
        "\\end{bmatrix}\n",
        "$$\n",
        "\n",
        "In `NumPy`:"
      ],
      "metadata": {
        "id": "FYiMrhwx-hXT"
      }
    },
    {
      "cell_type": "code",
      "source": [
        "A = np.array([[1 , np.sqrt(2)],[np.sqrt(3),2]]) # np.sqrt() is a mathematical tool for square root of a number\n",
        "B = A**2\n",
        "print(B) # using np.sqrt() will convert the values inside the matrix into float type by default."
      ],
      "metadata": {
        "id": "uqym9th4-ywH",
        "colab": {
          "base_uri": "https://localhost:8080/"
        },
        "outputId": "4c539cdc-6a41-46c1-a6d8-9c89b4d4545a"
      },
      "execution_count": 44,
      "outputs": [
        {
          "output_type": "stream",
          "name": "stdout",
          "text": [
            "[[1. 2.]\n",
            " [3. 4.]]\n"
          ]
        }
      ]
    },
    {
      "cell_type": "markdown",
      "source": [
        "## Transpose of a matrix\n",
        "\n",
        "Given a matrix $\\textbf{M}$:\n",
        "\n",
        "$$\n",
        "\\textbf{M} = \\begin{bmatrix}\n",
        "1 & 2 & 3\\\\\n",
        "4 & 5 & 6\n",
        "\\end{bmatrix}\n",
        "$$\n",
        "\n",
        "then, its transpose $\\textbf{M}^{T}$ is:\n",
        "\n",
        "$$\n",
        "\\textbf{M}^{T} = \\begin{bmatrix}\n",
        "1 & 4\\\\\n",
        "2 & 5\\\\\n",
        "3 & 6\n",
        "\\end{bmatrix}\n",
        "$$\n",
        "\n",
        "In `NumPy`:"
      ],
      "metadata": {
        "id": "-Pfh-LgH_AHi"
      }
    },
    {
      "cell_type": "code",
      "source": [
        "M = np.array([[1,2,3],[4,5,6]])\n",
        "y = np.transpose(M)\n",
        "y"
      ],
      "metadata": {
        "id": "9uBXpMH3_5pw",
        "colab": {
          "base_uri": "https://localhost:8080/"
        },
        "outputId": "809d240b-133f-4cd3-9814-003cdcb4ae93"
      },
      "execution_count": null,
      "outputs": [
        {
          "output_type": "execute_result",
          "data": {
            "text/plain": [
              "array([[1, 4],\n",
              "       [2, 5],\n",
              "       [3, 6]])"
            ]
          },
          "metadata": {},
          "execution_count": 7
        }
      ]
    },
    {
      "cell_type": "code",
      "source": [
        "y = M.T # better option than np.transpose\n",
        "y"
      ],
      "metadata": {
        "colab": {
          "base_uri": "https://localhost:8080/"
        },
        "id": "WQOidx3vCGlc",
        "outputId": "f0f4db14-8cff-42ec-f56d-665f26af214b"
      },
      "execution_count": null,
      "outputs": [
        {
          "output_type": "execute_result",
          "data": {
            "text/plain": [
              "array([[1, 4],\n",
              "       [2, 5],\n",
              "       [3, 6]])"
            ]
          },
          "metadata": {},
          "execution_count": 8
        }
      ]
    },
    {
      "cell_type": "markdown",
      "source": [
        "## Shape and dimension of a matrix\n",
        "\n",
        "Matrices are \"two dimensional\" arrays. So all matrices in `NumPy` have array-dimension equal to two. The shape of the `NumPy` array gives what we usually call the dimension of the matrix in the linear algebra sense.\n",
        "\n",
        "Explore these two ideas for:\n",
        "\n",
        "$$\n",
        "\\mathbf{M} = \\begin{bmatrix}\n",
        "1 & 2 & 3\\\\\n",
        "4 & 5 & 6\\\\\n",
        "\\end{bmatrix}\n",
        "$$\n",
        "\n",
        "In `NumPy`:"
      ],
      "metadata": {
        "id": "wDsjZjevz1eg"
      }
    },
    {
      "cell_type": "code",
      "source": [
        "M = np.array([[1,2,3],[4,5,6]])\n",
        "print(M.shape) # (rows,column,)\n",
        "print(M.ndim) # 2-Dimensional array"
      ],
      "metadata": {
        "id": "8WPQSzfzgSO1",
        "colab": {
          "base_uri": "https://localhost:8080/"
        },
        "outputId": "54948c7e-a3d8-4be8-b821-db488d43a63e"
      },
      "execution_count": null,
      "outputs": [
        {
          "output_type": "stream",
          "name": "stdout",
          "text": [
            "(2, 3)\n",
            "2\n"
          ]
        }
      ]
    },
    {
      "cell_type": "markdown",
      "source": [
        "## Vectors as matrices\n",
        "\n",
        "Each vector can be viewed as a matrix. Column vectors are matrices of shape $(d, 1)$. Row vectors are matrices of shape $(1, d)$. Let us look at how NumPy treats both these cases:\n"
      ],
      "metadata": {
        "id": "4wKzNg0afnIo"
      }
    },
    {
      "cell_type": "code",
      "source": [
        "X = np.array([1,2,3])\n",
        "print(X)\n",
        "\n",
        "Y = np.array([[1],[2],[3]])\n",
        "print(Y)\n",
        "\n",
        "print(X.shape , Y.shape)\n",
        "print(X.ndim , Y.ndim)"
      ],
      "metadata": {
        "id": "v2Tqn0AGfzKA",
        "colab": {
          "base_uri": "https://localhost:8080/"
        },
        "outputId": "14750869-e52e-4944-92b6-0e920763b5f1"
      },
      "execution_count": null,
      "outputs": [
        {
          "output_type": "stream",
          "name": "stdout",
          "text": [
            "[1 2 3]\n",
            "[[1]\n",
            " [2]\n",
            " [3]]\n",
            "(3,) (3, 1)\n",
            "1 2\n"
          ]
        }
      ]
    },
    {
      "cell_type": "markdown",
      "source": [
        "## Products involving matrices and vectors\n",
        "\n",
        "We will look at the following products:\n",
        "- matrix - matrix\n",
        "- matrix - vector\n",
        "- vector - matrix\n",
        "- vector - vector"
      ],
      "metadata": {
        "id": "GpQXZMCve8Wf"
      }
    },
    {
      "cell_type": "markdown",
      "source": [
        "### Product of two matrices\n",
        "\n",
        "Given two matrices:\n",
        "\n",
        "$$\n",
        "\\textbf{A} = \\begin{bmatrix}\n",
        "1 & 2 & 3\\\\\n",
        "4 & 5 & 6\n",
        "\\end{bmatrix}, \\textbf{B} = \\begin{bmatrix}\n",
        "6 & 7\\\\\n",
        "8 & 9\\\\\n",
        "10 & 11\n",
        "\\end{bmatrix}\n",
        "$$\n",
        "\n",
        "then,\n",
        "\n",
        "$$\n",
        "\\textbf{C} = \\textbf{A} \\times \\textbf{B} = \\begin{bmatrix}\n",
        "52 & 58\\\\\n",
        "124 & 139\n",
        "\\end{bmatrix}\n",
        "$$\n",
        "\n",
        "In `NumPy`:"
      ],
      "metadata": {
        "id": "ugLU7PhgA548"
      }
    },
    {
      "cell_type": "code",
      "source": [
        "A = np.array([[1,2,3],[4,5,6]])\n",
        "B = np.array([[7,8],[9,10],[11,12]])\n",
        "A @ B"
      ],
      "metadata": {
        "id": "sbiOJrIzBkFg",
        "colab": {
          "base_uri": "https://localhost:8080/"
        },
        "outputId": "3bcfaa58-78fd-4b16-c706-9dd92f94029b"
      },
      "execution_count": null,
      "outputs": [
        {
          "output_type": "execute_result",
          "data": {
            "text/plain": [
              "array([[ 58,  64],\n",
              "       [139, 154]])"
            ]
          },
          "metadata": {},
          "execution_count": 14
        }
      ]
    },
    {
      "cell_type": "markdown",
      "source": [
        "### Product of a matrix and a (column) vector\n",
        "\n",
        "Given the matrix $\\mathbf{A}$ and the vector $\\mathbf{x}$:\n",
        "\n",
        "$$\n",
        "\\mathbf{A} = \\begin{bmatrix}\n",
        "1 & 2 & 3\\\\\n",
        "4 & 5 & 6\\\\\n",
        "7 & 8 & 9\n",
        "\\end{bmatrix}, \\mathbf{x} = \\begin{bmatrix}\n",
        "6\\\\\n",
        "7\\\\\n",
        "8\n",
        "\\end{bmatrix}\n",
        "$$\n",
        "\n",
        "The product $\\mathbf{Ax}$ is given by:\n",
        "\n",
        "$$\n",
        "\\mathbf{C} = \\mathbf{A x} = \\begin{bmatrix}\n",
        "44\\\\\n",
        "107\\\\\n",
        "170\n",
        "\\end{bmatrix}\n",
        "$$\n",
        "\n",
        "In `NumPy`:"
      ],
      "metadata": {
        "id": "zdFPst7KCtgl"
      }
    },
    {
      "cell_type": "code",
      "source": [
        "A = np.array([[1,2,3],[4,5,6],[7,8,9]])\n",
        "X = np.array([6,7,8])\n",
        "A @ X # here even if you don't give the transposed matrix , it will automatically do the transpose and give you the ccorrect output."
      ],
      "metadata": {
        "id": "F9tQwGumDfgv",
        "colab": {
          "base_uri": "https://localhost:8080/"
        },
        "outputId": "937c7c7b-ecfb-44fa-eed7-953e3dbf291b"
      },
      "execution_count": null,
      "outputs": [
        {
          "output_type": "execute_result",
          "data": {
            "text/plain": [
              "array([ 44, 107, 170])"
            ]
          },
          "metadata": {},
          "execution_count": 16
        }
      ]
    },
    {
      "cell_type": "markdown",
      "source": [
        "### Product of a (row) vector and a matrix\n",
        "\n",
        "Given the matrix $\\mathbf{A}$ and the vector $\\mathbf{x}$:\n",
        "\n",
        "$$\n",
        "\\mathbf{A} = \\begin{bmatrix}\n",
        "1 & 2 & 3\\\\\n",
        "4 & 5 & 6\\\\\n",
        "7 & 8 & 9\n",
        "\\end{bmatrix}, \\mathbf{x} = \\begin{bmatrix}\n",
        "6\\\\\n",
        "7\\\\\n",
        "8\n",
        "\\end{bmatrix}\n",
        "$$\n",
        "\n",
        "The product $\\mathbf{x}^T \\mathbf{A}$ is given by:\n",
        "\n",
        "$$\n",
        "\\mathbf{C} = \\mathbf{x}^T \\mathbf{A} = \\begin{bmatrix}\n",
        "90 & 111 & 132\n",
        "\\end{bmatrix}\n",
        "$$\n",
        "\n",
        "In `NumPy`:"
      ],
      "metadata": {
        "id": "czO_GwynKHWQ"
      }
    },
    {
      "cell_type": "code",
      "source": [
        "A = np.array([[1,2,3],[4,5,6],[7,8,9]])\n",
        "X = np.array([6,7,8])\n",
        "\n",
        "X @ A # here @ can even convert the vector X into a matrix with 1 row and then give you the output."
      ],
      "metadata": {
        "id": "C_n2CZRhKTio",
        "colab": {
          "base_uri": "https://localhost:8080/"
        },
        "outputId": "7bcdb2f0-0ab0-4c8a-ad4b-7707cb37f8b7"
      },
      "execution_count": null,
      "outputs": [
        {
          "output_type": "execute_result",
          "data": {
            "text/plain": [
              "array([ 90, 111, 132])"
            ]
          },
          "metadata": {},
          "execution_count": 18
        }
      ]
    },
    {
      "cell_type": "markdown",
      "source": [
        "### (Inner) Product of a (row) vector and a (column) vector\n",
        "\n",
        "The product of a row vector and a column vector is nothing but the usual dot product:\n",
        "\n",
        "$$\n",
        "\\mathbf{x}^T = \\begin{bmatrix}\n",
        "1 & 2 & 3\n",
        "\\end{bmatrix}, \\quad\n",
        "\\mathbf{y} = \\begin{bmatrix}\n",
        "4\\\\\n",
        "5\\\\\n",
        "6\n",
        "\\end{bmatrix}\n",
        "$$\n",
        "\n",
        "The product $\\mathbf{x}^T \\mathbf{y}$ is then:\n",
        "\n",
        "$$\n",
        "\\mathbf{x}^T \\mathbf{y} = 32\n",
        "$$\n",
        "\n",
        "In `NumPy`:"
      ],
      "metadata": {
        "id": "d0impiXDL6_s"
      }
    },
    {
      "cell_type": "code",
      "source": [
        "# you can again use @ here , it will give you the required answer"
      ],
      "metadata": {
        "id": "Wch5wXY3MZol"
      },
      "execution_count": null,
      "outputs": []
    },
    {
      "cell_type": "markdown",
      "source": [
        "### (Outer) Product of a (column) vector and a (row) vector\n",
        "\n",
        "The product of a column vector and a row vector is an outer product:\n",
        "\n",
        "$$\n",
        "\\mathbf{x} = \\begin{bmatrix}\n",
        "1\\\\\n",
        "2\\\\\n",
        "3\n",
        "\\end{bmatrix}, \\quad\n",
        "\\mathbf{y} = \\begin{bmatrix}\n",
        "4 & 5 & 6\n",
        "\\end{bmatrix}\n",
        "$$\n",
        "\n",
        "The product $\\mathbf{x} \\mathbf{y}^T$ is then:\n",
        "\n",
        "$$\n",
        "\\mathbf{x} \\mathbf{y}^T = \\begin{bmatrix}\n",
        "4 & 5 & 6\\\\\n",
        "8 & 10 & 12\\\\\n",
        "12 & 15 & 18\n",
        "\\end{bmatrix}\n",
        "$$\n",
        "\n",
        "In `NumPy`:"
      ],
      "metadata": {
        "id": "xtZ4gUhdMrvM"
      }
    },
    {
      "cell_type": "code",
      "source": [
        "# used in co variance matrix\n",
        "\n",
        "x = np.array([1,2,3])\n",
        "y = np.array([4,5,6])\n",
        "\n",
        "np.outer(x,y)"
      ],
      "metadata": {
        "id": "p5a1jU1cNDVm",
        "colab": {
          "base_uri": "https://localhost:8080/"
        },
        "outputId": "294b06ee-e027-4bfc-b399-17f9ee04cd68"
      },
      "execution_count": null,
      "outputs": [
        {
          "output_type": "execute_result",
          "data": {
            "text/plain": [
              "array([[ 4,  5,  6],\n",
              "       [ 8, 10, 12],\n",
              "       [12, 15, 18]])"
            ]
          },
          "metadata": {},
          "execution_count": 20
        }
      ]
    },
    {
      "cell_type": "markdown",
      "source": [
        "## Matrix of zeros\n",
        "\n",
        "In many algorithms, we might have to initialize a matrix with zeros. For example, consider a $2 \\times 4$ matrix:\n",
        "\n",
        "$$\n",
        "\\mathbf{M} = \\begin{bmatrix}\n",
        "0 & 0 & 0 & 0\\\\\n",
        "0 & 0 & 0 & 0\n",
        "\\end{bmatrix}\n",
        "$$\n",
        "\n",
        "In `NumPy`:"
      ],
      "metadata": {
        "id": "KShBdBZcQpTN"
      }
    },
    {
      "cell_type": "code",
      "source": [
        "np.zeros((2,4))"
      ],
      "metadata": {
        "id": "x38VjAKRRAFk",
        "colab": {
          "base_uri": "https://localhost:8080/"
        },
        "outputId": "a16ca48c-7115-432e-8e6d-488ece148e7a"
      },
      "execution_count": null,
      "outputs": [
        {
          "output_type": "execute_result",
          "data": {
            "text/plain": [
              "array([[0., 0., 0., 0.],\n",
              "       [0., 0., 0., 0.]])"
            ]
          },
          "metadata": {},
          "execution_count": 22
        }
      ]
    },
    {
      "cell_type": "markdown",
      "source": [
        "## Matrix of ones\n",
        "\n",
        "Similar to a matrix of zeros, we can come up with a matrix of ones.\n",
        "\n",
        "$$\n",
        "\\mathbf{M} = \\begin{bmatrix}\n",
        "1 & 1\\\\\n",
        "1 & 1\\\\\n",
        "1 & 1\n",
        "\\end{bmatrix}\n",
        "$$\n",
        "\n",
        "In `NumPy`:"
      ],
      "metadata": {
        "id": "hEg3EbveRWyc"
      }
    },
    {
      "cell_type": "code",
      "source": [
        "np.ones((3,2))"
      ],
      "metadata": {
        "id": "kdApYPy7RlUd",
        "colab": {
          "base_uri": "https://localhost:8080/"
        },
        "outputId": "52f9708f-ab20-462c-ebfc-7bc833203961"
      },
      "execution_count": null,
      "outputs": [
        {
          "output_type": "execute_result",
          "data": {
            "text/plain": [
              "array([[1., 1.],\n",
              "       [1., 1.],\n",
              "       [1., 1.]])"
            ]
          },
          "metadata": {},
          "execution_count": 23
        }
      ]
    },
    {
      "cell_type": "markdown",
      "source": [
        "## Identity matrix\n",
        "\n",
        "Often, we might have to deal with identity matrices. A $3 \\times 3$ identity matrix is as follows:\n",
        "\n",
        "$$\n",
        "\\mathbf{I} = \\begin{bmatrix}\n",
        "1 & 0 & 0\\\\\n",
        "0 & 1 & 0\\\\\n",
        "0 & 0 & 1\n",
        "\\end{bmatrix}\n",
        "$$\n",
        "\n",
        "In `NumPy`:"
      ],
      "metadata": {
        "id": "hhHfmOEiSknK"
      }
    },
    {
      "cell_type": "code",
      "source": [
        "np.eye(3)"
      ],
      "metadata": {
        "id": "sTLClyKSS8s-",
        "colab": {
          "base_uri": "https://localhost:8080/"
        },
        "outputId": "3f542eec-9f26-4799-fdce-1502e0b033f1"
      },
      "execution_count": null,
      "outputs": [
        {
          "output_type": "execute_result",
          "data": {
            "text/plain": [
              "array([[1., 0., 0.],\n",
              "       [0., 1., 0.],\n",
              "       [0., 0., 1.]])"
            ]
          },
          "metadata": {},
          "execution_count": 24
        }
      ]
    },
    {
      "cell_type": "markdown",
      "source": [
        "## Diagonal matrices\n",
        "\n",
        "Another special kind of matrix. Let us create the following matrix:\n",
        "\n",
        "$$\n",
        "\\mathbf{D} = \\begin{bmatrix}\n",
        "1 & 0 & 0 & 0\\\\\n",
        "0 & 2 & 0 & 0\\\\\n",
        "0 & 0 & 3 & 0\\\\\n",
        "0 & 0 & 0 & 4\n",
        "\\end{bmatrix}\n",
        "$$\n",
        "\n",
        "In `NumPy`:"
      ],
      "metadata": {
        "id": "gsSwBuSExQX1"
      }
    },
    {
      "cell_type": "code",
      "source": [
        "np.diag([1,2,3,4]) #takes in parameter as the diagonal elements."
      ],
      "metadata": {
        "id": "fLZ8y1ODxgq6",
        "colab": {
          "base_uri": "https://localhost:8080/"
        },
        "outputId": "e6bcec1b-4c56-421b-ae4c-299845751264"
      },
      "execution_count": 3,
      "outputs": [
        {
          "output_type": "execute_result",
          "data": {
            "text/plain": [
              "array([[1, 0, 0, 0],\n",
              "       [0, 2, 0, 0],\n",
              "       [0, 0, 3, 0],\n",
              "       [0, 0, 0, 4]])"
            ]
          },
          "metadata": {},
          "execution_count": 3
        }
      ]
    },
    {
      "cell_type": "markdown",
      "source": [
        "## Indexing and Slicing\n",
        "\n",
        "Just like lists in Python, `NumPy` arrays can be indexed and sliced. Slicing is useful if we want to work with a portion of an array. We will look at some examples."
      ],
      "metadata": {
        "id": "LYEO0xG8Tmdo"
      }
    },
    {
      "cell_type": "markdown",
      "source": [
        "### Example-1: Row-slice\n",
        "\n",
        "We will extract the third row of the matrix $\\mathbf{M}$:\n",
        "\n",
        "$$\n",
        "\\mathbf{M} = \\begin{bmatrix}\n",
        "1 & 2\\\\\n",
        "3 & 4\\\\\n",
        "5 & 6\\\\\n",
        "7 & 8\\\\\n",
        "9 & 10\n",
        "\\end{bmatrix}\n",
        "$$\n",
        "\n",
        "\n",
        "\n",
        "In `NumPy`:"
      ],
      "metadata": {
        "id": "jjVMaWjETs1R"
      }
    },
    {
      "cell_type": "code",
      "source": [
        "V = np.arange(1,11) # it can't shape a 1-D array of prime number of elements to any new shape.\n",
        "V = V.reshape(5,2) # will make our life simpler by converting an array to required shape.\n",
        "# if you set any one parameter to -1 in reshape() funtion will automatically compute the valid value of that particular parameter.\n",
        "V"
      ],
      "metadata": {
        "id": "J1rnADwuTtXz",
        "colab": {
          "base_uri": "https://localhost:8080/"
        },
        "outputId": "a27d9a1d-4946-48d3-9b90-f258ff79b0af"
      },
      "execution_count": 16,
      "outputs": [
        {
          "output_type": "execute_result",
          "data": {
            "text/plain": [
              "array([[ 1,  2],\n",
              "       [ 3,  4],\n",
              "       [ 5,  6],\n",
              "       [ 7,  8],\n",
              "       [ 9, 10]])"
            ]
          },
          "metadata": {},
          "execution_count": 16
        }
      ]
    },
    {
      "cell_type": "code",
      "source": [
        "print(V[2]) #for rows you can just simply apply the logic of list indexing method to get your answer."
      ],
      "metadata": {
        "colab": {
          "base_uri": "https://localhost:8080/"
        },
        "id": "ZE4j9HEWEQ-N",
        "outputId": "a95a983a-7aa4-426c-85f2-af5bbc39fab2"
      },
      "execution_count": 17,
      "outputs": [
        {
          "output_type": "stream",
          "name": "stdout",
          "text": [
            "[5 6]\n"
          ]
        }
      ]
    },
    {
      "cell_type": "markdown",
      "source": [
        "### Example-2: Column slice\n",
        "\n",
        "Let us now extract the second column of the following matrix:\n",
        "\n",
        "$$\n",
        "\\mathbf{M} = \\begin{bmatrix}\n",
        "1 & 2 & 3\\\\\n",
        "4 & 5 & 6\\\\\n",
        "7 & 8 & 9\n",
        "\\end{bmatrix}\n",
        "$$\n",
        "\n",
        "In `NumPy`:"
      ],
      "metadata": {
        "id": "Sg0PsBYSTtsy"
      }
    },
    {
      "cell_type": "code",
      "source": [
        "V = np.arange(1,10).reshape(3,3) # you can attach two functions to make your code shorter.\n",
        "V"
      ],
      "metadata": {
        "id": "6VC5H1v4Tvp9",
        "colab": {
          "base_uri": "https://localhost:8080/"
        },
        "outputId": "c229db06-8908-4931-e70d-8c3bb4caa46f"
      },
      "execution_count": 18,
      "outputs": [
        {
          "output_type": "execute_result",
          "data": {
            "text/plain": [
              "array([[1, 2, 3],\n",
              "       [4, 5, 6],\n",
              "       [7, 8, 9]])"
            ]
          },
          "metadata": {},
          "execution_count": 18
        }
      ]
    },
    {
      "cell_type": "code",
      "source": [
        "print(V[1,2]) # this simply means traversing to 2nd row and 3rd column\n",
        "print(V[:,1]) # adding a colon means getting all the elements related to that parameter."
      ],
      "metadata": {
        "colab": {
          "base_uri": "https://localhost:8080/"
        },
        "id": "PdtR_quDFEFF",
        "outputId": "9a5a22b3-871e-4811-a2bc-d865ed8b350b"
      },
      "execution_count": 22,
      "outputs": [
        {
          "output_type": "stream",
          "name": "stdout",
          "text": [
            "6\n",
            "[2 5 8]\n"
          ]
        }
      ]
    },
    {
      "cell_type": "markdown",
      "source": [
        "### Example-3: Submatrix slice\n",
        "\n",
        "Now, we want to extract the $2 \\times 2$ submatrix colored in blue from $M$:\n",
        "\n",
        "$$\n",
        "\\mathbf{M} = \\begin{bmatrix}\n",
        "1 & 2 & 3 & 4\\\\\n",
        "5 & 6 & \\color{blue}7 & \\color{blue}8\\\\\n",
        "9 & 10 & \\color{blue}{11} & \\color{blue}{12}\\\\\n",
        "13 & 14 & 15 & 16\n",
        "\\end{bmatrix}\n",
        "$$\n",
        "\n",
        "In `NumPy`:"
      ],
      "metadata": {
        "id": "STtPO2rjTvzq"
      }
    },
    {
      "cell_type": "code",
      "source": [
        "V = np.arange(1,17).reshape(4,4)\n",
        "V"
      ],
      "metadata": {
        "id": "18Ktzj0nTyOx",
        "colab": {
          "base_uri": "https://localhost:8080/"
        },
        "outputId": "688b0dde-9045-4dfc-8995-46727e35e93f"
      },
      "execution_count": 23,
      "outputs": [
        {
          "output_type": "execute_result",
          "data": {
            "text/plain": [
              "array([[ 1,  2,  3,  4],\n",
              "       [ 5,  6,  7,  8],\n",
              "       [ 9, 10, 11, 12],\n",
              "       [13, 14, 15, 16]])"
            ]
          },
          "metadata": {},
          "execution_count": 23
        }
      ]
    },
    {
      "cell_type": "code",
      "source": [
        "# In line 22 , we just used 1 number for input in row and column , but we can give a series\n",
        "# of rows and columns as input which will enable us to use submatrix slice\n",
        "\n",
        "V[1:3 , 2:4] #here we used '1:3' to specify that we wan't 2nd to 3rd row. we used '2:4' to\n",
        "# specify that we want from column 3 to 4 . And hence u can see the result."
      ],
      "metadata": {
        "colab": {
          "base_uri": "https://localhost:8080/"
        },
        "id": "6XG1b3uLF8am",
        "outputId": "765abb23-7ab0-4f46-adfe-4104fa10c462"
      },
      "execution_count": 24,
      "outputs": [
        {
          "output_type": "execute_result",
          "data": {
            "text/plain": [
              "array([[ 7,  8],\n",
              "       [11, 12]])"
            ]
          },
          "metadata": {},
          "execution_count": 24
        }
      ]
    },
    {
      "cell_type": "markdown",
      "source": [
        "## Matrix algebra\n",
        "\n",
        "There are several important matrix operations that we will list down here. The `np.linalg` module helps us perform these operations effortlessly."
      ],
      "metadata": {
        "id": "USo33Hw9nSPP"
      }
    },
    {
      "cell_type": "markdown",
      "source": [
        "## Rank, Inverse\n",
        "\n",
        "We can get the rank of a matrix and its inverse as follows:"
      ],
      "metadata": {
        "id": "F0OVX6CtiF70"
      }
    },
    {
      "cell_type": "code",
      "source": [
        "V[1,2]=22  # changed an element in previous matrix , as that was a singular matrix , whose inverse is not possible.\n",
        "\n",
        "# rank\n",
        "\n",
        "print(np.linalg.matrix_rank(V))\n",
        "\n",
        "# inverse\n",
        "\n",
        "print(np.linalg.inv(V))"
      ],
      "metadata": {
        "id": "DTskqJVZiMuP",
        "colab": {
          "base_uri": "https://localhost:8080/"
        },
        "outputId": "db8cd6d0-c62b-4158-bc9c-54b321307fb3"
      },
      "execution_count": 28,
      "outputs": [
        {
          "output_type": "stream",
          "name": "stdout",
          "text": [
            "3\n",
            "[[ 3.75299969e+14 -6.66666667e-02 -1.12589991e+15  7.50599938e+14]\n",
            " [-5.62949953e+14  6.66666667e-02  1.68884986e+15 -1.12589991e+15]\n",
            " [-5.55555556e-02  6.66666667e-02  3.33333333e-02 -4.44444444e-02]\n",
            " [ 1.87649984e+14 -6.66666667e-02 -5.62949953e+14  3.75299969e+14]]\n"
          ]
        }
      ]
    },
    {
      "cell_type": "markdown",
      "source": [
        "### Pseuodoinverse\n",
        "\n",
        "The pseudoinverse $\\mathbf{M}^{\\dagger}$ of a matrix $\\mathbf{M}$ with real entries satisfies the following properties:\n",
        "\n",
        "- $\\mathbf{M} \\mathbf{M}^{\\dagger} \\mathbf{M} = \\mathbf{M}$\n",
        "- $\\mathbf{M}^{\\dagger} \\mathbf{M} \\mathbf{M} = \\mathbf{M}^{\\dagger}$\n",
        "- $\\mathbf{M} \\mathbf{M}^{\\dagger}$ is symmetric\n",
        "- $\\mathbf{M}^{\\dagger} \\mathbf{M}$ is symmetric\n",
        "\n",
        "Let us go ahead and verify this for the following matrix:\n",
        "\n",
        "$$\n",
        "\\mathbf{M} = \\begin{bmatrix}\n",
        "1 & 2 & 3\\\\\n",
        "3 & 6 & 9\n",
        "\\end{bmatrix}\n",
        "$$\n",
        "\n",
        "Note: For a complete list of properties of the pseudoinverse, check out this [link](https://en.wikipedia.org/wiki/Moore%E2%80%93Penrose_inverse#Definition)."
      ],
      "metadata": {
        "id": "P77YDapdn1eW"
      }
    },
    {
      "cell_type": "code",
      "source": [
        "M = np.array([[1,2,3],[3,6,9]])\n",
        "print(np.linalg.matrix_rank(M))\n",
        "print(np.linalg.pinv(M)) # pseudo-inverse"
      ],
      "metadata": {
        "id": "vHcx2d9HnWf6",
        "colab": {
          "base_uri": "https://localhost:8080/"
        },
        "outputId": "7bc08a72-9fdd-4425-b9c2-602992fe9dc1"
      },
      "execution_count": 31,
      "outputs": [
        {
          "output_type": "stream",
          "name": "stdout",
          "text": [
            "1\n",
            "[[0.00714286 0.02142857]\n",
            " [0.01428571 0.04285714]\n",
            " [0.02142857 0.06428571]]\n"
          ]
        }
      ]
    },
    {
      "cell_type": "markdown",
      "source": [
        "## Eigenvalues and Eigenvectors\n",
        "\n",
        "Given a symmetric matrix $\\mathbf{M}$ let us find its eigenvalues and eigenvectors:\n",
        "\n",
        "$$\n",
        "\\mathbf{M} = \\begin{bmatrix}\n",
        "1 & 0 & -3\\\\\n",
        "0 & 5 & 2\\\\\n",
        "-3 & 2 & 8\n",
        "\\end{bmatrix}\n",
        "$$"
      ],
      "metadata": {
        "id": "6v1KRPi3sqqk"
      }
    },
    {
      "cell_type": "code",
      "source": [
        "M = np.array([[1,0,-3],[0,5,2],[-3,2,8]])\n",
        "\n",
        "eigen_values , eigen_vector = np.linalg.eigh(M) # linal.eigh() returns two values , the 1st one is eigne values and 2nd is corresponding eigen vectors.\n",
        "\n",
        "print(eigen_values , eigen_vector)"
      ],
      "metadata": {
        "id": "LkH6ayZ7s6dZ",
        "colab": {
          "base_uri": "https://localhost:8080/"
        },
        "outputId": "f270587d-5ca0-4bfa-c406-9f603343820d"
      },
      "execution_count": 33,
      "outputs": [
        {
          "output_type": "stream",
          "name": "stdout",
          "text": [
            "[-0.20942046  4.36588492  9.84353554] [[ 0.91805853  0.26010485 -0.2991889 ]\n",
            " [-0.14209114  0.92042494  0.36418131]\n",
            " [ 0.37010626 -0.29182767  0.88196257]]\n"
          ]
        }
      ]
    },
    {
      "cell_type": "markdown",
      "source": [
        "## SVD\n",
        "\n",
        "We can compute the singular value decomposition of a matrix $\\mathbf{M}$ as:\n",
        "\n",
        "$$\n",
        "\\mathbf{M} = \\mathbf{U} \\boldsymbol{\\Sigma} \\mathbf{V}^T\n",
        "$$\n",
        "\n",
        "Here, the symbols have their usual meanings."
      ],
      "metadata": {
        "id": "Rq2jpFjIhIsI"
      }
    },
    {
      "cell_type": "code",
      "source": [
        "np.linalg.svd? # using '?' will help you to know about np.linalg.svd() . U will notice that it gives three return values. Please refer to the doc and learn about SVD to understand about the return values"
      ],
      "metadata": {
        "id": "ieo70cvZhZhc"
      },
      "execution_count": 34,
      "outputs": []
    }
  ]
}